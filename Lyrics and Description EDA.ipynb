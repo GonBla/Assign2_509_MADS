{
 "cells": [
  {
   "cell_type": "markdown",
   "id": "7f79baf9",
   "metadata": {},
   "source": [
    "# ADS 509 Assignment 2.1: Tokenization, Normalization, Descriptive Statistics \n",
    "## Gonzalo Blazquez\n",
    "\n",
    "This notebook holds Assignment 2.1 for Module 2 in ADS 509, Applied Text Mining. Work through this notebook, writing code and answering questions where required. \n",
    "\n",
    "In the previous assignment you pulled lyrics data on two artists. In this assignment we explore this data set and a pull from the now-defunct Twitter API for the artists Cher and Robyn.  If, for some reason, you did not complete that previous assignment, data to use for this assignment can be found in the assignment materials section of Canvas. \n",
    "\n",
    "This assignment asks you to write a short function to calculate some descriptive statistics on a piece of text. Then you are asked to find some interesting and unique statistics on your corpora. \n"
   ]
  },
  {
   "cell_type": "markdown",
   "id": "aae8e2e1",
   "metadata": {},
   "source": [
    "## General Assignment Instructions\n",
    "\n",
    "These instructions are included in every assignment, to remind you of the coding standards for the class. Feel free to delete this cell after reading it. \n",
    "\n",
    "One sign of mature code is conforming to a style guide. We recommend the [Google Python Style Guide](https://google.github.io/styleguide/pyguide.html). If you use a different style guide, please include a cell with a link. \n",
    "\n",
    "Your code should be relatively easy-to-read, sensibly commented, and clean. Writing code is a messy process, so please be sure to edit your final submission. Remove any cells that are not needed or parts of cells that contain unnecessary code. Remove inessential `import` statements and make sure that all such statements are moved into the designated cell. \n",
    "\n",
    "Make use of non-code cells for written commentary. These cells should be grammatical and clearly written. In some of these cells you will have questions to answer. The questions will be marked by a \"Q:\" and will have a corresponding \"A:\" spot for you. *Make sure to answer every question marked with a `Q:` for full credit.* \n"
   ]
  },
  {
   "cell_type": "code",
   "execution_count": 88,
   "id": "e2d096b7",
   "metadata": {},
   "outputs": [],
   "source": [
    "import os\n",
    "import re\n",
    "import emoji\n",
    "import pandas as pd\n",
    "import numpy as np\n",
    "\n",
    "from collections import Counter, defaultdict\n",
    "from nltk.corpus import stopwords\n",
    "from string import punctuation\n",
    "\n",
    "sw = stopwords.words(\"english\")"
   ]
  },
  {
   "cell_type": "code",
   "execution_count": 89,
   "id": "6b555ab2",
   "metadata": {},
   "outputs": [],
   "source": [
    "# Add any additional import statements you need here\n",
    "# nltk.download('stopwords')\n",
    "\n",
    "import csv\n",
    "csv.field_size_limit(10**6) # for big twitter descriptions\n",
    "import matplotlib.pyplot as plt"
   ]
  },
  {
   "cell_type": "code",
   "execution_count": 90,
   "id": "923b5a86",
   "metadata": {},
   "outputs": [],
   "source": [
    "# change `data_location` to the location of the folder on your machine.\n",
    "data_location = \"/users/Gonzalo B/Downloads/AppliedTextMining/Module2/Assign 2/M1 Results/\"\n",
    "\n",
    "# These subfolders should still work if you correctly stored the \n",
    "# data from the Module 1 assignment\n",
    "twitter_folder = \"twitter/\"\n",
    "lyrics_folder = \"lyrics/\""
   ]
  },
  {
   "cell_type": "code",
   "execution_count": 92,
   "id": "06522af9",
   "metadata": {},
   "outputs": [],
   "source": [
    "def descriptive_stats(tokens, top_tokens = 5, verbose=True) :\n",
    "    \"\"\"\n",
    "        Given a list of tokens, print number of tokens, number of unique tokens, \n",
    "        number of characters, lexical diversity (https://en.wikipedia.org/wiki/Lexical_diversity), \n",
    "        and num_tokens most common tokens. Return a list with the number of tokens, number\n",
    "        of unique tokens, lexical diversity, and number of characters. \n",
    "    \n",
    "    \"\"\"\n",
    "    # Fill in the correct values here. \n",
    "    num_tokens = len(tokens)\n",
    "    num_unique_tokens = len(set(tokens))\n",
    "    lexical_diversity = num_unique_tokens / num_tokens\n",
    "    num_characters = sum(len(token) for token in tokens)\n",
    "\n",
    "    token_counts = Counter(tokens)\n",
    "    most_common_tokens = token_counts.most_common(top_tokens)\n",
    "    \n",
    "    if verbose :        \n",
    "        print(f\"There are {num_tokens} tokens in the data.\")\n",
    "        print(f\"There are {num_unique_tokens} unique tokens in the data.\")\n",
    "        print(f\"There are {num_characters} characters in the data.\")\n",
    "        print(f\"The lexical diversity is {lexical_diversity:.3f} in the data.\")\n",
    "    \n",
    "        # print the five most common tokens\n",
    "        print(f\"The five most common tokens in the data:\")\n",
    "        for token, count in most_common_tokens:\n",
    "            print(f\"{token}: {count}\")\n",
    "        \n",
    "    return([num_tokens, num_unique_tokens,\n",
    "            lexical_diversity,\n",
    "            num_characters])"
   ]
  },
  {
   "cell_type": "code",
   "execution_count": 93,
   "id": "59dcf058",
   "metadata": {},
   "outputs": [
    {
     "name": "stdout",
     "output_type": "stream",
     "text": [
      "There are 13 tokens in the data.\n",
      "There are 9 unique tokens in the data.\n",
      "There are 55 characters in the data.\n",
      "The lexical diversity is 0.692 in the data.\n",
      "The five most common tokens in the data:\n",
      "text: 3\n",
      "here: 2\n",
      "example: 2\n",
      "is: 1\n",
      "some: 1\n"
     ]
    }
   ],
   "source": [
    "text = \"\"\"here is some example text with other example text here in this text\"\"\".split()\n",
    "assert(descriptive_stats(text, verbose=True)[0] == 13)\n",
    "assert(descriptive_stats(text, verbose=False)[1] == 9)\n",
    "assert(abs(descriptive_stats(text, verbose=False)[2] - 0.69) < 0.02)\n",
    "assert(descriptive_stats(text, verbose=False)[3] == 55)"
   ]
  },
  {
   "cell_type": "markdown",
   "id": "d2e7e1a2",
   "metadata": {},
   "source": [
    "Q: Why is it beneficial to use assertion statements in your code? \n",
    "\n",
    "A: Using assertion is benefical because it helps to check if the output of a function in this example is behaving the way it is supposed to. If the condition is false it will raise an assertion error, indicating a problem in the code."
   ]
  },
  {
   "cell_type": "markdown",
   "id": "9d3bf93e",
   "metadata": {},
   "source": [
    "## Data Input\n",
    "\n",
    "Now read in each of the corpora. For the lyrics data, it may be convenient to store the entire contents of the file to make it easier to inspect the titles individually, as you'll do in the last part of the assignment. In the solution, I stored the lyrics data in a dictionary with two dimensions of keys: artist and song. The value was the file contents. A data frame would work equally well. \n",
    "\n",
    "For the Twitter data, we only need the description field for this assignment. Feel free all the descriptions read it into a data structure. In the solution, I stored the descriptions as a dictionary of lists, with the key being the artist. \n",
    "\n",
    "\n"
   ]
  },
  {
   "cell_type": "code",
   "execution_count": 95,
   "id": "37d70801",
   "metadata": {},
   "outputs": [],
   "source": [
    "# Read in the lyrics data\n",
    "lyrics_data = {}\n",
    "songs_titles = {} # for song titles question\n",
    "for artist_folder in os.listdir(os.path.join(data_location, lyrics_folder)):\n",
    "    #\n",
    "    artist_path=os.path.join(data_location, lyrics_folder,artist_folder)\n",
    "    #\n",
    "    lyrics_data[artist_folder] = {}\n",
    "    song_title_list=[]\n",
    "    # Get song path and name\n",
    "    for song_file in os.listdir(artist_path):\n",
    "        song_path = os.path.join(artist_path, song_file)\n",
    "        song_name = song_file.split('_', 1)[1].replace('.txt', '')\n",
    "\n",
    "        # From each file get the song title and the lyrics\n",
    "        with open(song_path, 'r', encoding='utf-8') as file:\n",
    "            lines = file.readlines()\n",
    "            lyrics = ''.join(lines[4:]).strip()\n",
    "            song_title = lines[0].strip().strip('\"')\n",
    "        song_title_list.append(song_title)\n",
    "        lyrics_data[artist_folder][song_name] = lyrics\n",
    "    songs_titles[artist_folder] = song_title_list"
   ]
  },
  {
   "cell_type": "code",
   "execution_count": 96,
   "id": "debcac5a",
   "metadata": {},
   "outputs": [],
   "source": [
    "# Read in the twitter data\n",
    "artist_descriptions = {}\n",
    "\n",
    "for artist_file in os.listdir(os.path.join(data_location, twitter_folder)):\n",
    "        if artist_file.endswith('.txt'):\n",
    "                description_path=os.path.join(data_location, twitter_folder, artist_file)\n",
    "                artist = artist_file.split('_', 1)[0]\n",
    "                # Read each file as a table to get the values of the description column\n",
    "                with open(description_path, mode='r', encoding='utf-8') as file:\n",
    "                        reader = csv.DictReader(file, delimiter='\\t')  \n",
    "                        for row in reader:\n",
    "                                description = row['description'] \n",
    "                                # Only if it has a description it will add it\n",
    "                                if description:\n",
    "                                        if artist in artist_descriptions:\n",
    "                                                artist_descriptions[artist].append(description)\n",
    "                                        else:\n",
    "                                                artist_descriptions[artist] = [description]\n",
    "                                "
   ]
  },
  {
   "cell_type": "markdown",
   "id": "6a5f3b12",
   "metadata": {},
   "source": [
    "## Data Cleaning\n",
    "\n",
    "Now clean and tokenize your data. Remove punctuation chacters (available in the `punctuation` object in the `string` library), split on whitespace, fold to lowercase, and remove stopwords. Store your cleaned data, which must be accessible as an interable for `descriptive_stats`, in new objects or in new columns in your data frame. \n",
    "\n"
   ]
  },
  {
   "cell_type": "code",
   "execution_count": 97,
   "id": "71c73d86",
   "metadata": {},
   "outputs": [],
   "source": [
    "punctuation = set(punctuation) - {'#'} # Keep # for its question\n",
    "stopwords= set(sw)\n",
    "\n",
    "def clean_and_tokenize(text):\n",
    "    # Lowercase\n",
    "    text = text.lower()\n",
    "    # Punctuation\n",
    "    text = ''.join(char for char in text if char not in punctuation)\n",
    "    # Split\n",
    "    tokens = text.split()\n",
    "    # Stopwords\n",
    "    tokens = [word for word in tokens if word not in stopwords]\n",
    "    \n",
    "    return tokens"
   ]
  },
  {
   "cell_type": "code",
   "execution_count": 98,
   "id": "b327033a",
   "metadata": {},
   "outputs": [],
   "source": [
    "# create your clean twitter data here\n",
    "cleaned_artist_descriptions = {}\n",
    "for artist, descriptions in artist_descriptions.items():\n",
    "    # list for cleaned tokens\n",
    "    cleaned_tokens_list = []\n",
    "    \n",
    "    for description in descriptions:\n",
    "        # Clean and tokenize each description\n",
    "        cleaned_tokens = clean_and_tokenize(description)\n",
    "        cleaned_tokens_list.extend(cleaned_tokens)\n",
    "    cleaned_artist_descriptions[artist] = cleaned_tokens_list"
   ]
  },
  {
   "cell_type": "code",
   "execution_count": 99,
   "id": "e0f22e10",
   "metadata": {},
   "outputs": [],
   "source": [
    "# create your clean lyrics data here\n",
    "cleaned_artist_lyrics = {}\n",
    "for artist, songs in lyrics_data.items():\n",
    "    # list for cleaned tokens\n",
    "    cleaned_tokens_list = []\n",
    "    \n",
    "    for song, lyrics in songs.items():\n",
    "        # Clean and tokenize each description\n",
    "        cleaned_tokens = clean_and_tokenize(lyrics)\n",
    "        cleaned_tokens_list.extend(cleaned_tokens)\n",
    "    cleaned_artist_lyrics[artist] = cleaned_tokens_list"
   ]
  },
  {
   "cell_type": "markdown",
   "id": "f2dd0179",
   "metadata": {},
   "source": [
    "## Basic Descriptive Statistics\n",
    "\n",
    "Call your `descriptive_stats` function on both your lyrics data and your twitter data and for both artists (four total calls). "
   ]
  },
  {
   "cell_type": "code",
   "execution_count": 100,
   "id": "f0bbedd9",
   "metadata": {},
   "outputs": [
    {
     "name": "stdout",
     "output_type": "stream",
     "text": [
      "There are 35233 tokens in the data.\n",
      "There are 3684 unique tokens in the data.\n",
      "There are 169244 characters in the data.\n",
      "The lexical diversity is 0.105 in the data.\n",
      "The five most common tokens in the data:\n",
      "love: 966\n",
      "im: 511\n",
      "know: 480\n",
      "dont: 430\n",
      "youre: 332\n"
     ]
    },
    {
     "data": {
      "text/plain": [
       "[35233, 3684, 0.10456106491073709, 169244]"
      ]
     },
     "execution_count": 100,
     "metadata": {},
     "output_type": "execute_result"
    }
   ],
   "source": [
    "# calls to descriptive_stats here\n",
    "descriptive_stats(cleaned_artist_lyrics[\"cher\"], verbose=True)"
   ]
  },
  {
   "cell_type": "code",
   "execution_count": 101,
   "id": "6c15e1e1",
   "metadata": {},
   "outputs": [
    {
     "name": "stdout",
     "output_type": "stream",
     "text": [
      "There are 15041 tokens in the data.\n",
      "There are 2139 unique tokens in the data.\n",
      "There are 72804 characters in the data.\n",
      "The lexical diversity is 0.142 in the data.\n",
      "The five most common tokens in the data:\n",
      "know: 305\n",
      "im: 299\n",
      "dont: 297\n",
      "love: 269\n",
      "got: 249\n"
     ]
    },
    {
     "data": {
      "text/plain": [
       "[15041, 2139, 0.1422112891430091, 72804]"
      ]
     },
     "execution_count": 101,
     "metadata": {},
     "output_type": "execute_result"
    }
   ],
   "source": [
    "descriptive_stats(cleaned_artist_lyrics[\"robyn\"], verbose=True)"
   ]
  },
  {
   "cell_type": "code",
   "execution_count": 102,
   "id": "50abdc33",
   "metadata": {},
   "outputs": [
    {
     "name": "stdout",
     "output_type": "stream",
     "text": [
      "There are 16192727 tokens in the data.\n",
      "There are 1746381 unique tokens in the data.\n",
      "There are 96734590 characters in the data.\n",
      "The lexical diversity is 0.108 in the data.\n",
      "The five most common tokens in the data:\n",
      "love: 213656\n",
      "im: 139100\n",
      "life: 122714\n",
      "music: 86800\n",
      "de: 73361\n"
     ]
    },
    {
     "data": {
      "text/plain": [
       "[16192727, 1746381, 0.10784971549264062, 96734590]"
      ]
     },
     "execution_count": 102,
     "metadata": {},
     "output_type": "execute_result"
    }
   ],
   "source": [
    "descriptive_stats(cleaned_artist_descriptions[\"cher\"], verbose=True)"
   ]
  },
  {
   "cell_type": "code",
   "execution_count": 103,
   "id": "7452a058",
   "metadata": {},
   "outputs": [
    {
     "name": "stdout",
     "output_type": "stream",
     "text": [
      "There are 1538430 tokens in the data.\n",
      "There are 277006 unique tokens in the data.\n",
      "There are 9427994 characters in the data.\n",
      "The lexical diversity is 0.180 in the data.\n",
      "The five most common tokens in the data:\n",
      "music: 14871\n",
      "love: 11621\n",
      "im: 9050\n",
      "och: 7922\n",
      "life: 7358\n"
     ]
    },
    {
     "data": {
      "text/plain": [
       "[1538430, 277006, 0.1800575911806192, 9427994]"
      ]
     },
     "execution_count": 103,
     "metadata": {},
     "output_type": "execute_result"
    }
   ],
   "source": [
    "descriptive_stats(cleaned_artist_descriptions[\"robynkonichiwa\"], verbose=True)"
   ]
  },
  {
   "cell_type": "markdown",
   "id": "46294409",
   "metadata": {},
   "source": [
    "Q: How do you think the \"top 5 words\" would be different if we left stopwords in the data? \n",
    "\n",
    "A: Probaly all of the top 5 words would be stopwords if we left them in the data. This is because they tend to be repeated a lot.\n",
    "\n",
    "---\n",
    "\n",
    "Q: What were your prior beliefs about the lexical diversity between the artists? Does the difference (or lack thereof) in lexical diversity between the artists conform to your prior beliefs? \n",
    "\n",
    "A: I didn't know Robyn, but I would though that Cher has a low lexical diversity seens her music tends to focus on other things rather than words, like melody. This is sort of confirmed by the results since Robyn has 0.142 lexical diversity and Cher has 0.105.\n"
   ]
  },
  {
   "cell_type": "markdown",
   "id": "4d4e1ac1",
   "metadata": {},
   "source": [
    "\n",
    "## Specialty Statistics\n",
    "\n",
    "The descriptive statistics we have calculated are quite generic. You will now calculate a handful of statistics tailored to these data.\n",
    "\n",
    "1. Ten most common emojis by artist in the twitter descriptions.\n",
    "1. Ten most common hashtags by artist in the twitter descriptions.\n",
    "1. Five most common words in song titles by artist. \n",
    "1. For each artist, a histogram of song lengths (in terms of number of tokens) \n",
    "\n",
    "We can use the `emoji` library to help us identify emojis and you have been given a function to help you.\n"
   ]
  },
  {
   "cell_type": "code",
   "execution_count": 104,
   "id": "753a5a3e",
   "metadata": {},
   "outputs": [],
   "source": [
    "assert(emoji.is_emoji(\"❤️\"))\n",
    "assert(not emoji.is_emoji(\":-)\"))"
   ]
  },
  {
   "cell_type": "markdown",
   "id": "986fc4c0",
   "metadata": {},
   "source": [
    "### Emojis 😁\n",
    "\n",
    "What are the ten most common emojis by artist in the twitter descriptions? \n"
   ]
  },
  {
   "cell_type": "code",
   "execution_count": 105,
   "id": "269cd433",
   "metadata": {},
   "outputs": [
    {
     "data": {
      "text/plain": [
       "[('❤️', 14741),\n",
       " ('🏳️\\u200d🌈', 14190),\n",
       " ('♥', 10251),\n",
       " ('❤', 9690),\n",
       " ('✨', 8422),\n",
       " ('🌈', 5497),\n",
       " ('🇺🇸', 3742),\n",
       " ('💙', 3708),\n",
       " ('💜', 3512),\n",
       " ('🌊', 3292)]"
      ]
     },
     "execution_count": 105,
     "metadata": {},
     "output_type": "execute_result"
    }
   ],
   "source": [
    "# Cher emojis\n",
    "emoji_counter = Counter()\n",
    "    \n",
    "for token in cleaned_artist_descriptions[\"cher\"]:\n",
    "    if emoji.is_emoji(token):\n",
    "        emoji_counter[token] += 1\n",
    "emoji_counter.most_common(10)"
   ]
  },
  {
   "cell_type": "code",
   "execution_count": 106,
   "id": "5a7b152f",
   "metadata": {},
   "outputs": [
    {
     "data": {
      "text/plain": [
       "[('🏳️\\u200d🌈', 1708),\n",
       " ('♥', 1170),\n",
       " ('❤️', 991),\n",
       " ('✨', 755),\n",
       " ('❤', 655),\n",
       " ('🌈', 572),\n",
       " ('🎶', 272),\n",
       " ('🎧', 214),\n",
       " ('🖤', 212),\n",
       " ('💜', 206)]"
      ]
     },
     "execution_count": 106,
     "metadata": {},
     "output_type": "execute_result"
    }
   ],
   "source": [
    "# Robyn emojis\n",
    "emoji_counter = Counter()\n",
    "    \n",
    "for token in cleaned_artist_descriptions[\"robynkonichiwa\"]:\n",
    "    if emoji.is_emoji(token):\n",
    "        emoji_counter[token] += 1\n",
    "emoji_counter.most_common(10)"
   ]
  },
  {
   "cell_type": "markdown",
   "id": "bab9b770",
   "metadata": {},
   "source": [
    "### Hashtags\n",
    "\n",
    "What are the ten most common hashtags by artist in the twitter descriptions? \n"
   ]
  },
  {
   "cell_type": "code",
   "execution_count": 107,
   "id": "19a4faa8",
   "metadata": {},
   "outputs": [
    {
     "data": {
      "text/plain": [
       "[('#resist', 10540),\n",
       " ('#blm', 9588),\n",
       " ('#blacklivesmatter', 7777),\n",
       " ('#theresistance', 3211),\n",
       " ('#fbr', 3131),\n",
       " ('#resistance', 2787),\n",
       " ('#1', 2428),\n",
       " ('#', 2140),\n",
       " ('#voteblue', 2062),\n",
       " ('#lgbtq', 1791)]"
      ]
     },
     "execution_count": 107,
     "metadata": {},
     "output_type": "execute_result"
    }
   ],
   "source": [
    "# Cher Hashtags\n",
    "hashtag_counter = Counter()\n",
    "    \n",
    "for token in cleaned_artist_descriptions[\"cher\"]:\n",
    "    if token.startswith(\"#\"):\n",
    "        hashtag_counter[token] += 1\n",
    "hashtag_counter.most_common(10)"
   ]
  },
  {
   "cell_type": "code",
   "execution_count": 108,
   "id": "07c396f1",
   "metadata": {},
   "outputs": [
    {
     "data": {
      "text/plain": [
       "[('#blacklivesmatter', 584),\n",
       " ('#blm', 341),\n",
       " ('#music', 289),\n",
       " ('#1', 194),\n",
       " ('#', 169),\n",
       " ('#teamfollowback', 127),\n",
       " ('#edm', 108),\n",
       " ('#lgbtq', 81),\n",
       " ('#resist', 80),\n",
       " ('#art', 69)]"
      ]
     },
     "execution_count": 108,
     "metadata": {},
     "output_type": "execute_result"
    }
   ],
   "source": [
    "# Robyn Hashtags\n",
    "hashtag_counter = Counter()\n",
    "    \n",
    "for token in cleaned_artist_descriptions[\"robynkonichiwa\"]:\n",
    "    if token.startswith(\"#\"):\n",
    "        hashtag_counter[token] += 1\n",
    "hashtag_counter.most_common(10)"
   ]
  },
  {
   "cell_type": "markdown",
   "id": "d10f21d5",
   "metadata": {},
   "source": [
    "### Song Titles\n",
    "\n",
    "What are the five most common words in song titles by artist? The song titles should be on the first line of the lyrics pages, so if you have kept the raw file contents around, you will not need to re-read the data.\n"
   ]
  },
  {
   "cell_type": "code",
   "execution_count": 109,
   "id": "bb69b36b",
   "metadata": {},
   "outputs": [
    {
     "data": {
      "text/plain": [
       "[('love', 38), ('man', 12), ('song', 11), ('dont', 10), ('come', 7)]"
      ]
     },
     "execution_count": 109,
     "metadata": {},
     "output_type": "execute_result"
    }
   ],
   "source": [
    "# Here is used the song titles recoleted at the beginning\n",
    "cleaned_artist_titles = {}\n",
    "cleaned_tokens_list = []\n",
    "\n",
    "for title in songs_titles[\"cher\"]:\n",
    "        # Clean and tokenize each description\n",
    "        cleaned_tokens = clean_and_tokenize(title)\n",
    "        cleaned_tokens_list.extend(cleaned_tokens)\n",
    "        cleaned_artist_titles = cleaned_tokens_list\n",
    "\n",
    "artist_common_words = {}\n",
    "word_counts = Counter(cleaned_artist_titles)\n",
    "common_words = word_counts.most_common(5)\n",
    "common_words"
   ]
  },
  {
   "cell_type": "code",
   "execution_count": 110,
   "id": "43820793",
   "metadata": {},
   "outputs": [
    {
     "data": {
      "text/plain": [
       "[('love', 6), ('dont', 4), ('u', 4), ('thing', 3), ('girl', 3)]"
      ]
     },
     "execution_count": 110,
     "metadata": {},
     "output_type": "execute_result"
    }
   ],
   "source": [
    "cleaned_artist_titles = {}\n",
    "cleaned_tokens_list = []\n",
    "\n",
    "for title in songs_titles[\"robyn\"]:\n",
    "        # Clean and tokenize each description\n",
    "        cleaned_tokens = clean_and_tokenize(title)\n",
    "        cleaned_tokens_list.extend(cleaned_tokens)\n",
    "        cleaned_artist_titles = cleaned_tokens_list\n",
    "\n",
    "artist_common_words = {}\n",
    "word_counts = Counter(cleaned_artist_titles)\n",
    "common_words = word_counts.most_common(5)\n",
    "common_words"
   ]
  },
  {
   "cell_type": "markdown",
   "id": "5dd4fd71",
   "metadata": {},
   "source": [
    "### Song Lengths\n",
    "\n",
    "For each artist, a histogram of song lengths (in terms of number of tokens). If you put the song lengths in a data frame with an artist column, matplotlib will make the plotting quite easy. An example is given to help you out. \n"
   ]
  },
  {
   "cell_type": "code",
   "execution_count": 111,
   "id": "805a1e52",
   "metadata": {},
   "outputs": [
    {
     "data": {
      "text/plain": [
       "artist\n",
       "Artist 1    Axes(0.125,0.11;0.775x0.77)\n",
       "Artist 2    Axes(0.125,0.11;0.775x0.77)\n",
       "Name: length, dtype: object"
      ]
     },
     "execution_count": 111,
     "metadata": {},
     "output_type": "execute_result"
    },
    {
     "data": {
      "image/png": "[encoded data removed]",
      "text/plain": [
       "<Figure size 640x480 with 1 Axes>"
      ]
     },
     "metadata": {},
     "output_type": "display_data"
    }
   ],
   "source": [
    "num_replicates = 1000\n",
    "\n",
    "df = pd.DataFrame({\n",
    "    \"artist\" : ['Artist 1'] * num_replicates + ['Artist 2']*num_replicates,\n",
    "    \"length\" : np.concatenate((np.random.poisson(125,num_replicates),np.random.poisson(150,num_replicates)))\n",
    "})\n",
    "\n",
    "df.groupby('artist')['length'].plot(kind=\"hist\",density=True,alpha=0.5,legend=True)"
   ]
  },
  {
   "cell_type": "markdown",
   "id": "8fde9ebb",
   "metadata": {},
   "source": [
    "Since the lyrics may be stored with carriage returns or tabs, it may be useful to have a function that can collapse whitespace, using regular expressions, and be used for splitting. \n",
    "\n",
    "Q: What does the regular expression `'\\s+'` match on? \n",
    "\n",
    "A: The regular expression matches one or more whitespaces.\n"
   ]
  },
  {
   "cell_type": "code",
   "execution_count": 112,
   "id": "f0e34516",
   "metadata": {},
   "outputs": [],
   "source": [
    "collapse_whitespace = re.compile(r'\\s+')\n",
    "\n",
    "def tokenize_lyrics(lyric) : \n",
    "    \"\"\"strip and split on whitespace\"\"\"\n",
    "    return([item.lower() for item in collapse_whitespace.split(lyric)])"
   ]
  },
  {
   "cell_type": "code",
   "execution_count": 113,
   "id": "2294c440",
   "metadata": {},
   "outputs": [
    {
     "data": {
      "image/png": "[encoded data removed]",
      "text/plain": [
       "<Figure size 640x480 with 1 Axes>"
      ]
     },
     "metadata": {},
     "output_type": "display_data"
    }
   ],
   "source": [
    "# Your lyric length comparison chart here. \n",
    "song_lengths = []\n",
    "# Iterate over the lyrics data and tokenize lyrics\n",
    "for artist, songs in lyrics_data.items():\n",
    "    for song, lyrics in songs.items():\n",
    "        tokens = tokenize_lyrics(lyrics)\n",
    "        length = len(tokens)\n",
    "        song_lengths.append({\"artist\": artist, \"song\": song, \"length\": length})\n",
    "\n",
    "df = pd.DataFrame(song_lengths)\n",
    "\n",
    "# Plot\n",
    "df.groupby('artist')['length'].plot(kind=\"hist\", density=True, alpha=0.5, legend=True)\n",
    "plt.xlabel(\"Song Length (Number of Tokens)\")\n",
    "plt.ylabel(\"Density\")\n",
    "plt.title(\"Histogram of Song Lengths by Artist\")\n",
    "plt.show()"
   ]
  }
 ],
 "metadata": {
  "kernelspec": {
   "display_name": "Python 3 (ipykernel)",
   "language": "python",
   "name": "python3"
  },
  "language_info": {
   "codemirror_mode": {
    "name": "ipython",
    "version": 3
   },
   "file_extension": ".py",
   "mimetype": "text/x-python",
   "name": "python",
   "nbconvert_exporter": "python",
   "pygments_lexer": "ipython3",
   "version": "3.11.4"
  }
 },
 "nbformat": 4,
 "nbformat_minor": 5
}
